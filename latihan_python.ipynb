{
  "cells": [
    {
      "cell_type": "code",
      "execution_count": null,
      "metadata": {
        "colab": {
          "base_uri": "https://localhost:8080/"
        },
        "id": "xOjDGrN-USZq",
        "outputId": "599b84ac-8537-477a-c463-02040602ce7b"
      },
      "outputs": [
        {
          "name": "stdout",
          "output_type": "stream",
          "text": [
            "30 adalah positif\n"
          ]
        }
      ],
      "source": [
        "#if statement\n",
        "x = 30\n",
        "\n",
        "if x>0:\n",
        "  print(f\"{x} adalah positif\")"
      ]
    },
    {
      "cell_type": "code",
      "execution_count": null,
      "metadata": {
        "colab": {
          "base_uri": "https://localhost:8080/"
        },
        "id": "RgX2bdKfHIvI",
        "outputId": "dc374090-0304-4bab-8359-0f6d3698d305"
      },
      "outputs": [
        {
          "name": "stdout",
          "output_type": "stream",
          "text": [
            "sempurna\n"
          ]
        }
      ],
      "source": [
        "#if statement\n",
        "x = 100\n",
        "\n",
        "if x==100:\n",
        "  print(\"sempurna\")"
      ]
    },
    {
      "cell_type": "code",
      "execution_count": null,
      "metadata": {
        "colab": {
          "base_uri": "https://localhost:8080/"
        },
        "id": "qqbA3eueHaP-",
        "outputId": "e39fb122-8b9e-4bd6-e0b4-beb5b4f68a84"
      },
      "outputs": [
        {
          "name": "stdout",
          "output_type": "stream",
          "text": [
            "60 adalah positif\n"
          ]
        }
      ],
      "source": [
        "#if statement\n",
        "x=60\n",
        "\n",
        "if x<0:\n",
        "  print(f\"{x} adalah negatif\")\n",
        "if x>0:\n",
        "  print(f\"{x} adalah positif\")"
      ]
    },
    {
      "cell_type": "code",
      "execution_count": null,
      "metadata": {
        "colab": {
          "base_uri": "https://localhost:8080/"
        },
        "id": "kcx3yZ0HIhOi",
        "outputId": "ecb0089c-d198-4de0-ea3f-b5d4d68d2771"
      },
      "outputs": [
        {
          "name": "stdout",
          "output_type": "stream",
          "text": [
            "-5 adalah angka negatif\n"
          ]
        }
      ],
      "source": [
        "#if else statement\n",
        "x=-5\n",
        "\n",
        "if x>0:\n",
        "  print(f\"{x} adalah angka positif\")\n",
        "else:\n",
        "  print(f\"{x} adalah angka negatif\")"
      ]
    },
    {
      "cell_type": "code",
      "execution_count": 22,
      "metadata": {
        "colab": {
          "base_uri": "https://localhost:8080/"
        },
        "id": "_5-lAJPYngR6",
        "outputId": "64ced129-81fc-4a66-fe60-2585ddb731bd"
      },
      "outputs": [
        {
          "name": "stdout",
          "output_type": "stream",
          "text": [
            "8 adalah genap\n"
          ]
        }
      ],
      "source": [
        "# if else statement\n",
        "x=8\n",
        "\n",
        "if x%2 == 0:\n",
        "  print(f\"{x} adalah genap\")\n",
        "else:\n",
        "  print(f\"{x} adalah ganjil\")"
      ]
    },
    {
      "cell_type": "code",
      "execution_count": 24,
      "metadata": {
        "colab": {
          "base_uri": "https://localhost:8080/"
        },
        "id": "gsjOfbH7oL_7",
        "outputId": "651c8886-e914-4899-d8eb-d28a64736be0"
      },
      "outputs": [
        {
          "name": "stdout",
          "output_type": "stream",
          "text": [
            "selamat anda lulus\n"
          ]
        }
      ],
      "source": [
        "# if else statement\n",
        "\n",
        "list_nama=[\"ita\",\"ida\",\"sofi\"]\n",
        "\n",
        "nama=\"ita\"\n",
        "if nama in list_nama:\n",
        "  print(\"selamat anda lulus\")\n",
        "else:\n",
        "  print(\"ganbatte\")"
      ]
    },
    {
      "cell_type": "code",
      "execution_count": 17,
      "metadata": {
        "colab": {
          "base_uri": "https://localhost:8080/"
        },
        "id": "o8RBLtbpo9cv",
        "outputId": "fbd7220b-67f6-41fd-b598-101be2f034a7"
      },
      "outputs": [
        {
          "name": "stdout",
          "output_type": "stream",
          "text": [
            "35 adalah angka positif\n"
          ]
        }
      ],
      "source": [
        "#if elif else statement\n",
        "\n",
        "x=35\n",
        "\n",
        "if x==0:\n",
        "  print(f\"{x} adalah angka nol\")\n",
        "elif x<0:\n",
        "  print(f\"{x} adalah angka negatif\")\n",
        "else:\n",
        "  print(f\"{x} adalah angka positif\")"
      ]
    },
    {
      "cell_type": "code",
      "execution_count": 29,
      "metadata": {
        "colab": {
          "base_uri": "https://localhost:8080/"
        },
        "id": "pExcPNRKsBqJ",
        "outputId": "b7c429ab-40a3-4ccd-8259-e4c2a1f3c181"
      },
      "outputs": [
        {
          "name": "stdout",
          "output_type": "stream",
          "text": [
            "remaja\n"
          ]
        }
      ],
      "source": [
        "#if elif else statement\n",
        "\n",
        "umur=17\n",
        "\n",
        "if umur<5:\n",
        "  print(\"balita\")\n",
        "elif umur >=5 and umur <13:\n",
        "  print(\"kids\")\n",
        "elif umur >=13 and umur <18:\n",
        "  print(\"remaja\")\n",
        "elif umur >=18 and umur <25:\n",
        "  print(\"dewasa\")\n",
        "else:\n",
        "  print(\"tua\")"
      ]
    },
    {
      "cell_type": "code",
      "execution_count": 36,
      "metadata": {
        "colab": {
          "base_uri": "https://localhost:8080/"
        },
        "id": "IQczWypgtPwR",
        "outputId": "9fb672d2-87c2-415e-9a73-85979e7b6de4"
      },
      "outputs": [
        {
          "name": "stdout",
          "output_type": "stream",
          "text": [
            "{b} merupakan nilai terbesar\n"
          ]
        }
      ],
      "source": [
        "#nested if statement\n",
        "\n",
        "a,b,c=10,45,30\n",
        "\n",
        "if a>b:\n",
        "  if a>c:\n",
        "    print(\"{a} merupakan nilai terbesar\")\n",
        "  else:\n",
        "    print(\"{c} merupakan nilai terbasar\")\n",
        "elif b>c:\n",
        "  print(\"{b} merupakan nilai terbesar\")\n",
        "else:\n",
        "  print(\"{c} merupakan nilai terbesar\")"
      ]
    },
    {
      "cell_type": "code",
      "execution_count": 38,
      "metadata": {
        "colab": {
          "base_uri": "https://localhost:8080/"
        },
        "id": "36f4zwqivPnH",
        "outputId": "cc2b587f-279f-4ca5-8d4c-7a561bdfde11"
      },
      "outputs": [
        {
          "name": "stdout",
          "output_type": "stream",
          "text": [
            "0\n",
            "1\n",
            "2\n",
            "3\n",
            "4\n"
          ]
        }
      ],
      "source": [
        "#for loops\n",
        "\n",
        "for i in range (5):\n",
        "  print(i)"
      ]
    },
    {
      "cell_type": "code",
      "execution_count": 39,
      "metadata": {
        "colab": {
          "base_uri": "https://localhost:8080/"
        },
        "id": "X0r0NlG-veR5",
        "outputId": "f151892d-53f3-48fa-f657-2c3d9f283ccf"
      },
      "outputs": [
        {
          "name": "stdout",
          "output_type": "stream",
          "text": [
            "3\n",
            "4\n"
          ]
        }
      ],
      "source": [
        "#for loops\n",
        "\n",
        "for i in range (3,5):\n",
        "  print(i)"
      ]
    },
    {
      "cell_type": "code",
      "execution_count": 41,
      "metadata": {
        "colab": {
          "base_uri": "https://localhost:8080/"
        },
        "id": "W24nD4ywvljs",
        "outputId": "1a13310a-0cd1-438f-bb7a-275fe0048008"
      },
      "outputs": [
        {
          "name": "stdout",
          "output_type": "stream",
          "text": [
            "looping huruf : a\n",
            "looping huruf : d\n",
            "looping huruf : z\n",
            "looping huruf : i\n",
            "looping huruf : k\n"
          ]
        }
      ],
      "source": [
        "#for loops\n",
        "for huruf in \"adzik\":\n",
        "  print(f\"looping huruf : {huruf}\")"
      ]
    },
    {
      "cell_type": "code",
      "execution_count": 43,
      "metadata": {
        "colab": {
          "base_uri": "https://localhost:8080/"
        },
        "id": "c7sBJZGHwZNi",
        "outputId": "6b5b52d0-4480-4ec1-b366-4c84decb3e8c"
      },
      "outputs": [
        {
          "name": "stdout",
          "output_type": "stream",
          "text": [
            "13\n",
            "23\n",
            "33\n",
            "43\n"
          ]
        }
      ],
      "source": [
        "#for loops\n",
        "list_num=[13,23,33,43]\n",
        "for num in list_num:\n",
        "  print(num)"
      ]
    },
    {
      "cell_type": "code",
      "execution_count": 14,
      "metadata": {
        "colab": {
          "base_uri": "https://localhost:8080/"
        },
        "id": "He2gcjrdxA5y",
        "outputId": "eea64de5-b57b-49ee-860c-2073f68b98b2"
      },
      "outputs": [
        {
          "name": "stdout",
          "output_type": "stream",
          "text": [
            "0\n",
            "1\n",
            "2\n",
            "3\n",
            "4\n",
            "5\n",
            "6\n",
            "7\n",
            "8\n",
            "9\n",
            "10\n",
            "11\n",
            "12\n"
          ]
        }
      ],
      "source": [
        "#for loops\n",
        "\n",
        "for i in range (20):\n",
        "  print(i)\n",
        "  if i>=12:\n",
        "    break"
      ]
    },
    {
      "cell_type": "code",
      "execution_count": 23,
      "metadata": {
        "colab": {
          "base_uri": "https://localhost:8080/"
        },
        "id": "9Nrx4ie6ygHZ",
        "outputId": "1d851102-e8a9-4809-ac57-1b2285fffead"
      },
      "outputs": [
        {
          "name": "stdout",
          "output_type": "stream",
          "text": [
            "0\n",
            "1\n",
            "2\n",
            "3\n",
            "4\n"
          ]
        }
      ],
      "source": [
        "#while loops\n",
        "m=5\n",
        "i=0\n",
        "while i<m:\n",
        "  print(i)\n",
        "  i=i+1\n"
      ]
    },
    {
      "cell_type": "code",
      "execution_count": 27,
      "metadata": {
        "colab": {
          "base_uri": "https://localhost:8080/"
        },
        "id": "YgjbrrbV0VwE",
        "outputId": "a9b13e98-daf8-494b-a3e8-4290e5182ae5"
      },
      "outputs": [
        {
          "name": "stdout",
          "output_type": "stream",
          "text": [
            "10\n",
            "20\n",
            "30\n",
            "40\n",
            "50\n",
            "60\n",
            "70\n",
            "80\n",
            "90\n",
            "100\n"
          ]
        }
      ],
      "source": [
        "#while loops\n",
        "\n",
        "status=True\n",
        "nilai=0\n",
        "while status:\n",
        "  nilai+=10\n",
        "  print(nilai)\n",
        "  if nilai >= 100:\n",
        "    status=False"
      ]
    },
    {
      "cell_type": "code",
      "execution_count": 28,
      "metadata": {
        "colab": {
          "base_uri": "https://localhost:8080/"
        },
        "id": "bfwHxKG41jQU",
        "outputId": "340b7ec9-6832-4af0-ecd0-85610258afe2"
      },
      "outputs": [
        {
          "name": "stdout",
          "output_type": "stream",
          "text": [
            "python asyik\n",
            "aku pasti bisa\n"
          ]
        }
      ],
      "source": [
        "#function\n",
        "\n",
        "def fungsi_python():\n",
        "  print(\"python asyik\")\n",
        "  print(\"aku pasti bisa\")\n",
        "\n",
        "fungsi_python()"
      ]
    },
    {
      "cell_type": "code",
      "execution_count": 3,
      "metadata": {
        "colab": {
          "base_uri": "https://localhost:8080/"
        },
        "id": "6_xUuJjb2Mo7",
        "outputId": "8d2a9263-f6f7-42b9-ee6d-fa16beae4f0f"
      },
      "outputs": [
        {
          "data": {
            "text/plain": [
              "30"
            ]
          },
          "execution_count": 3,
          "metadata": {},
          "output_type": "execute_result"
        }
      ],
      "source": [
        "#argumen and parameters\n",
        "\n",
        "def kalkulasi(x,y,z): \n",
        "  result=x+y+z\n",
        "  return result\n",
        "\n",
        "kalkulasi(5,10,15) "
      ]
    },
    {
      "cell_type": "code",
      "execution_count": 32,
      "metadata": {
        "colab": {
          "base_uri": "https://localhost:8080/",
          "height": 35
        },
        "id": "RO5qFZLt22SE",
        "outputId": "53b00c23-4c23-4bf5-e36a-8d7f2d9ee2d9"
      },
      "outputs": [
        {
          "data": {
            "application/vnd.google.colaboratory.intrinsic+json": {
              "type": "string"
            },
            "text/plain": [
              "'30'"
            ]
          },
          "execution_count": 32,
          "metadata": {},
          "output_type": "execute_result"
        }
      ],
      "source": [
        "#return types\n",
        "\n",
        "def kalkulasi(x,y,z):\n",
        "  result=x+y+z\n",
        "  return str(result)\n",
        "\n",
        "kalkulasi(5,10,15)"
      ]
    },
    {
      "cell_type": "code",
      "execution_count": 33,
      "metadata": {
        "colab": {
          "base_uri": "https://localhost:8080/"
        },
        "id": "0DRSQG8W5qdi",
        "outputId": "a7a33ca1-d60a-4233-cdf8-ad468702bc0e"
      },
      "outputs": [
        {
          "data": {
            "text/plain": [
              "(30, -20)"
            ]
          },
          "execution_count": 33,
          "metadata": {},
          "output_type": "execute_result"
        }
      ],
      "source": [
        "#return types\n",
        "\n",
        "def kalkulasi(x,y,z):\n",
        "  tambah=x+y+z\n",
        "  kurang=x-y-z\n",
        "  return tambah,kurang\n",
        "\n",
        "kalkulasi(5,10,15)"
      ]
    },
    {
      "cell_type": "code",
      "execution_count": 1,
      "metadata": {
        "colab": {
          "base_uri": "https://localhost:8080/"
        },
        "id": "WYCd_KUk7Ce-",
        "outputId": "e398a146-f167-4372-8c25-89001aeb2257"
      },
      "outputs": [
        {
          "data": {
            "text/plain": [
              "(10, 40, 90)"
            ]
          },
          "execution_count": 1,
          "metadata": {},
          "output_type": "execute_result"
        }
      ],
      "source": [
        "#return types\n",
        "\n",
        "def kalkulasi(x,y,z):\n",
        "  return x*2,y*4,z*6\n",
        "\n",
        "kalkulasi (5,10,15)"
      ]
    },
    {
      "cell_type": "code",
      "execution_count": 2,
      "metadata": {
        "colab": {
          "base_uri": "https://localhost:8080/",
          "height": 131
        },
        "id": "972U24VV7czj",
        "outputId": "fac435fe-1b34-4f78-d8a6-16de8d337d41"
      },
      "outputs": [
        {
          "ename": "SyntaxError",
          "evalue": "ignored",
          "output_type": "error",
          "traceback": [
            "\u001b[0;36m  File \u001b[0;32m\"<ipython-input-2-73a9c3cac7bc>\"\u001b[0;36m, line \u001b[0;32m4\u001b[0m\n\u001b[0;31m    return {\"x\":x,\"y\":y,\"z\",z}\u001b[0m\n\u001b[0m                           ^\u001b[0m\n\u001b[0;31mSyntaxError\u001b[0m\u001b[0;31m:\u001b[0m invalid syntax\n"
          ]
        }
      ],
      "source": [
        "#return types\n",
        "\n",
        "def kalkulasi(x,y,z):\n",
        "  return \"x\":x,\"y\":y,\"z\",z\n",
        "\n",
        "kalkulasi (5,10,15)"
      ]
    },
    {
      "cell_type": "code",
      "execution_count": 4,
      "metadata": {
        "colab": {
          "base_uri": "https://localhost:8080/"
        },
        "id": "tGxamXoS74Zp",
        "outputId": "1def813e-1aa4-4c91-fb1b-cb585681e079"
      },
      "outputs": [
        {
          "data": {
            "text/plain": [
              "True"
            ]
          },
          "execution_count": 4,
          "metadata": {},
          "output_type": "execute_result"
        }
      ],
      "source": [
        "#return types\n",
        "\n",
        "def kalkulasi(x,y,z):\n",
        "  return x>y<z\n",
        "\n",
        "kalkulasi (15,10,25)"
      ]
    },
    {
      "cell_type": "code",
      "execution_count": 5,
      "metadata": {
        "colab": {
          "base_uri": "https://localhost:8080/"
        },
        "id": "fn4VXGSs8O49",
        "outputId": "632d03c7-7404-4b0a-d8fe-56786997a009"
      },
      "outputs": [
        {
          "name": "stdout",
          "output_type": "stream",
          "text": [
            "hai fungsi one\n",
            "hai fungsi two\n",
            "hai fungsi three\n"
          ]
        }
      ],
      "source": [
        "#storing functions\n",
        "def one():\n",
        "  print(\"hai fungsi one\")\n",
        "def two():\n",
        "  print(\"hai fungsi two\")\n",
        "def three():\n",
        "  print(\"hai fungsi three\")\n",
        "\n",
        "f1=one\n",
        "f2=two\n",
        "f3=three\n",
        "\n",
        "list_func=[f1,f2,f3]\n",
        "for func in list_func:\n",
        "  func()\n"
      ]
    },
    {
      "cell_type": "code",
      "execution_count": 6,
      "metadata": {
        "colab": {
          "base_uri": "https://localhost:8080/"
        },
        "id": "pzcPBGec_oDs",
        "outputId": "c40c44b5-45ca-40ca-fa98-c1eb18c37bda"
      },
      "outputs": [
        {
          "name": "stdout",
          "output_type": "stream",
          "text": [
            "12\n"
          ]
        }
      ],
      "source": [
        "#storing function\n",
        "\n",
        "def kalkulasi(x,y,z):\n",
        "  result=x+y+z\n",
        "  return result\n",
        "x=kalkulasi\n",
        "print(x(2,4,6))"
      ]
    },
    {
      "cell_type": "code",
      "execution_count": 7,
      "metadata": {
        "colab": {
          "base_uri": "https://localhost:8080/"
        },
        "id": "EMbzM-OSAIAu",
        "outputId": "9ed86d9e-8940-4fcb-b623-a0111ed00a38"
      },
      "outputs": [
        {
          "name": "stdout",
          "output_type": "stream",
          "text": [
            "totalnya 18\n"
          ]
        }
      ],
      "source": [
        "#storing function\n",
        "\n",
        "def kalkulasi(x,y,z):\n",
        "  result=x+y+z\n",
        "  print(f\"totalnya {result}\")\n",
        "\n",
        "x=kalkulasi\n",
        "x(2,6,10)"
      ]
    },
    {
      "cell_type": "code",
      "execution_count": 1,
      "metadata": {
        "colab": {
          "base_uri": "https://localhost:8080/",
          "height": 381
        },
        "id": "kTqbmt2lAkMF",
        "outputId": "a0ef5114-87c0-4a96-a050-a0ef60bbd072"
      },
      "outputs": [
        {
          "ename": "RecursionError",
          "evalue": "ignored",
          "output_type": "error",
          "traceback": [
            "\u001b[0;31m---------------------------------------------------------------------------\u001b[0m",
            "\u001b[0;31mRecursionError\u001b[0m                            Traceback (most recent call last)",
            "\u001b[0;32m<ipython-input-1-9d6fe19a2e84>\u001b[0m in \u001b[0;36m<module>\u001b[0;34m()\u001b[0m\n\u001b[1;32m      3\u001b[0m   \u001b[0;32mreturn\u001b[0m \u001b[0mn\u001b[0m\u001b[0;34m+\u001b[0m \u001b[0mcontoh\u001b[0m\u001b[0;34m(\u001b[0m\u001b[0mn\u001b[0m\u001b[0;34m)\u001b[0m\u001b[0;34m\u001b[0m\u001b[0;34m\u001b[0m\u001b[0m\n\u001b[1;32m      4\u001b[0m \u001b[0;34m\u001b[0m\u001b[0m\n\u001b[0;32m----> 5\u001b[0;31m \u001b[0mc\u001b[0m\u001b[0;34m=\u001b[0m\u001b[0;36m5\u001b[0m\u001b[0;34m+\u001b[0m\u001b[0mcontoh\u001b[0m\u001b[0;34m(\u001b[0m\u001b[0;36m5\u001b[0m\u001b[0;34m)\u001b[0m\u001b[0;34m\u001b[0m\u001b[0;34m\u001b[0m\u001b[0m\n\u001b[0m",
            "\u001b[0;32m<ipython-input-1-9d6fe19a2e84>\u001b[0m in \u001b[0;36mcontoh\u001b[0;34m(n)\u001b[0m\n\u001b[1;32m      1\u001b[0m \u001b[0;31m#recursive function\u001b[0m\u001b[0;34m\u001b[0m\u001b[0;34m\u001b[0m\u001b[0;34m\u001b[0m\u001b[0m\n\u001b[1;32m      2\u001b[0m \u001b[0;32mdef\u001b[0m \u001b[0mcontoh\u001b[0m\u001b[0;34m(\u001b[0m\u001b[0mn\u001b[0m\u001b[0;34m)\u001b[0m\u001b[0;34m:\u001b[0m\u001b[0;34m\u001b[0m\u001b[0;34m\u001b[0m\u001b[0m\n\u001b[0;32m----> 3\u001b[0;31m   \u001b[0;32mreturn\u001b[0m \u001b[0mn\u001b[0m\u001b[0;34m+\u001b[0m \u001b[0mcontoh\u001b[0m\u001b[0;34m(\u001b[0m\u001b[0mn\u001b[0m\u001b[0;34m)\u001b[0m\u001b[0;34m\u001b[0m\u001b[0;34m\u001b[0m\u001b[0m\n\u001b[0m\u001b[1;32m      4\u001b[0m \u001b[0;34m\u001b[0m\u001b[0m\n\u001b[1;32m      5\u001b[0m \u001b[0mc\u001b[0m\u001b[0;34m=\u001b[0m\u001b[0;36m5\u001b[0m\u001b[0;34m+\u001b[0m\u001b[0mcontoh\u001b[0m\u001b[0;34m(\u001b[0m\u001b[0;36m5\u001b[0m\u001b[0;34m)\u001b[0m\u001b[0;34m\u001b[0m\u001b[0;34m\u001b[0m\u001b[0m\n",
            "... last 1 frames repeated, from the frame below ...\n",
            "\u001b[0;32m<ipython-input-1-9d6fe19a2e84>\u001b[0m in \u001b[0;36mcontoh\u001b[0;34m(n)\u001b[0m\n\u001b[1;32m      1\u001b[0m \u001b[0;31m#recursive function\u001b[0m\u001b[0;34m\u001b[0m\u001b[0;34m\u001b[0m\u001b[0;34m\u001b[0m\u001b[0m\n\u001b[1;32m      2\u001b[0m \u001b[0;32mdef\u001b[0m \u001b[0mcontoh\u001b[0m\u001b[0;34m(\u001b[0m\u001b[0mn\u001b[0m\u001b[0;34m)\u001b[0m\u001b[0;34m:\u001b[0m\u001b[0;34m\u001b[0m\u001b[0;34m\u001b[0m\u001b[0m\n\u001b[0;32m----> 3\u001b[0;31m   \u001b[0;32mreturn\u001b[0m \u001b[0mn\u001b[0m\u001b[0;34m+\u001b[0m \u001b[0mcontoh\u001b[0m\u001b[0;34m(\u001b[0m\u001b[0mn\u001b[0m\u001b[0;34m)\u001b[0m\u001b[0;34m\u001b[0m\u001b[0;34m\u001b[0m\u001b[0m\n\u001b[0m\u001b[1;32m      4\u001b[0m \u001b[0;34m\u001b[0m\u001b[0m\n\u001b[1;32m      5\u001b[0m \u001b[0mc\u001b[0m\u001b[0;34m=\u001b[0m\u001b[0;36m5\u001b[0m\u001b[0;34m+\u001b[0m\u001b[0mcontoh\u001b[0m\u001b[0;34m(\u001b[0m\u001b[0;36m5\u001b[0m\u001b[0;34m)\u001b[0m\u001b[0;34m\u001b[0m\u001b[0;34m\u001b[0m\u001b[0m\n",
            "\u001b[0;31mRecursionError\u001b[0m: maximum recursion depth exceeded"
          ]
        }
      ],
      "source": [
        "#recursive function\n",
        "def contoh(n):\n",
        "  return n+ contoh(n)\n",
        "\n",
        "c=5+contoh(5)"
      ]
    },
    {
      "cell_type": "code",
      "execution_count": 6,
      "metadata": {
        "colab": {
          "base_uri": "https://localhost:8080/"
        },
        "id": "t3vDFDuZicZ7",
        "outputId": "e37f19b6-a76f-41be-c8a6-ac45161846de"
      },
      "outputs": [
        {
          "name": "stdout",
          "output_type": "stream",
          "text": [
            "looping : a\n",
            "a adalah character\n",
            "looping : k\n",
            "k adalah character\n",
            "looping : u\n",
            "u adalah character\n",
            "looping :  \n",
            "looping : c\n",
            "c adalah character\n",
            "looping : a\n",
            "a adalah character\n",
            "looping : n\n",
            "n adalah character\n",
            "looping : t\n",
            "t adalah character\n",
            "looping : i\n",
            "i adalah character\n",
            "looping : k\n",
            "k adalah character\n"
          ]
        }
      ],
      "source": [
        "#looping with continue\n",
        "for char in \"aku cantik\":\n",
        "  print(f\"looping : {char}\")\n",
        "  if char ==\" \":\n",
        "   continue\n",
        "  print(f\"{char} adalah character\")"
      ]
    },
    {
      "cell_type": "code",
      "execution_count": 7,
      "metadata": {
        "colab": {
          "base_uri": "https://localhost:8080/"
        },
        "id": "1iPbgxeFnAGR",
        "outputId": "5318e1b9-ed40-4fe1-f8d3-624add1d3553"
      },
      "outputs": [
        {
          "name": "stdout",
          "output_type": "stream",
          "text": [
            "looping0\n",
            "looping100\n",
            "looping200\n",
            "looping300\n",
            "looping400\n",
            "looping500\n",
            "looping600\n",
            "looping700\n",
            "looping800\n",
            "looping900\n",
            "looping1000\n",
            "stop\n"
          ]
        }
      ],
      "source": [
        "#while loops\n",
        "status=True\n",
        "x=0\n",
        "while status:\n",
        "  print(\"looping\"+str(x))\n",
        "  x+=100\n",
        "\n",
        "  if x >1000:\n",
        "    print(\"stop\")\n",
        "    status=False"
      ]
    }
  ],
  "metadata": {
    "colab": {
      "collapsed_sections": [],
      "name": "python2.ipynb",
      "provenance": []
    },
    "kernelspec": {
      "display_name": "Python 3",
      "name": "python3"
    },
    "language_info": {
      "name": "python"
    }
  },
  "nbformat": 4,
  "nbformat_minor": 0
}
