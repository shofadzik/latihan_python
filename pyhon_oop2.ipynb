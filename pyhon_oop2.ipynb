{
  "nbformat": 4,
  "nbformat_minor": 0,
  "metadata": {
    "colab": {
      "name": "Untitled9.ipynb",
      "provenance": []
    },
    "kernelspec": {
      "name": "python3",
      "display_name": "Python 3"
    },
    "language_info": {
      "name": "python"
    }
  },
  "cells": [
    {
      "cell_type": "code",
      "execution_count": 2,
      "metadata": {
        "colab": {
          "base_uri": "https://localhost:8080/"
        },
        "id": "4kzNxXjRTWY9",
        "outputId": "678a5bc2-403d-4b3f-d259-cdf406abe14f"
      },
      "outputs": [
        {
          "output_type": "stream",
          "name": "stdout",
          "text": [
            "udin\n",
            "jago\n"
          ]
        }
      ],
      "source": [
        "class binatang():\n",
        "  def __init__(self, nama, jenis):\n",
        "    self.nama=nama\n",
        "    self.jenis=jenis\n",
        "  def bersuara(self, suara):\n",
        "    print(f\"{self.nama} bersuara {suara}\")\n",
        "\n",
        "ayam = binatang(\"udin\",\"jago\")\n",
        "\n",
        "print(ayam.nama)\n",
        "print(ayam.jenis)"
      ]
    },
    {
      "cell_type": "code",
      "source": [
        "class binatang():\n",
        "  def lengkap(self, nama, jenis):\n",
        "    self.nama=nama\n",
        "    self.jenis=jenis\n",
        "  def bersuara(self, suara):\n",
        "    print(f\"{self.nama} bersuara {suara}\")\n",
        "\n",
        "ayam = binatang()\n",
        "\n",
        "ayam.lengkap(\"udin\",\"jago\")\n",
        "\n",
        "print(ayam.nama)\n",
        "print(ayam.jenis)"
      ],
      "metadata": {
        "colab": {
          "base_uri": "https://localhost:8080/"
        },
        "id": "AhBZuBWqZJgQ",
        "outputId": "25fbb567-ec33-48db-ea87-aca96d7fb690"
      },
      "execution_count": 1,
      "outputs": [
        {
          "output_type": "stream",
          "name": "stdout",
          "text": [
            "udin\n",
            "jago\n"
          ]
        }
      ]
    },
    {
      "cell_type": "code",
      "source": [
        "class binatang():\n",
        "  def __init__(self, nama, jenis):\n",
        "    self.nama=nama\n",
        "    self.jenis=jenis\n",
        "  def bersuara(self, suara):\n",
        "    print(f\"{self.nama} bersuara {suara}\")\n",
        "\n",
        "ayam = binatang(\"udin\",\"jago\")\n",
        "\n",
        "ayam.bersuara(\"berkokok\")"
      ],
      "metadata": {
        "colab": {
          "base_uri": "https://localhost:8080/"
        },
        "id": "4qCcI1k2bPBH",
        "outputId": "7bb5c30f-ed1f-46ce-8afe-14336da55778"
      },
      "execution_count": 12,
      "outputs": [
        {
          "output_type": "stream",
          "name": "stdout",
          "text": [
            "udin bersuara berkokok\n"
          ]
        }
      ]
    },
    {
      "cell_type": "code",
      "source": [
        "class Karyawan:\n",
        "    '''Dasar kelas untuk semua karyawan'''\n",
        "    jumlah_karyawan = 0\n",
        "\n",
        "    def __init__(self, nama, gaji):\n",
        "        self.nama = nama\n",
        "        self.gaji = gaji\n",
        "        Karyawan.jumlah_karyawan += 1\n",
        "\n",
        "    def tampilkan_jumlah(self):\n",
        "        print(\"Total karyawan:\", Karyawan.jumlah_karyawan)\n",
        "\n",
        "    def tampilkan_profil(self):\n",
        "        print(\"Nama :\", self.nama)\n",
        "        print(\"Gaji :\", self.gaji)\n",
        "\n",
        "# Membuat objek pertama dari kelas Karyawan\n",
        "karyawan1 = Karyawan(\"Sarah\", 1000000)\n",
        "# Membuat objek kedua dari kelas Karyawan\n",
        "karyawan2 = Karyawan(\"Budi\", 2000000)\n",
        "\n",
        "karyawan1.tampilkan_profil()\n",
        "karyawan2.tampilkan_profil()\n",
        "print(\"Total karyawan :\", Karyawan.jumlah_karyawan)"
      ],
      "metadata": {
        "colab": {
          "base_uri": "https://localhost:8080/"
        },
        "id": "MErGw5ZOmxav",
        "outputId": "b0a83200-f6b5-454e-a116-aa418de80e63"
      },
      "execution_count": 2,
      "outputs": [
        {
          "output_type": "stream",
          "name": "stdout",
          "text": [
            "Nama : Sarah\n",
            "Gaji : 1000000\n",
            "Nama : Budi\n",
            "Gaji : 2000000\n",
            "Total karyawan : 2\n"
          ]
        }
      ]
    }
  ]
}