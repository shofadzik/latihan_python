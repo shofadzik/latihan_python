{
  "cells": [
    {
      "cell_type": "code",
      "execution_count": 1,
      "metadata": {
        "id": "bIO1y7KLEeC_"
      },
      "outputs": [],
      "source": [
        "#tanpa OOP\n",
        "\n",
        "kucing=[\"tom\",2]"
      ]
    },
    {
      "cell_type": "code",
      "execution_count": 2,
      "metadata": {
        "colab": {
          "base_uri": "https://localhost:8080/"
        },
        "id": "bgl2gZwJIA-b",
        "outputId": "2de3ca16-71be-484f-d380-03d139d41226"
      },
      "outputs": [
        {
          "data": {
            "text/plain": [
              "['tom', 2]"
            ]
          },
          "execution_count": 2,
          "metadata": {},
          "output_type": "execute_result"
        }
      ],
      "source": [
        "kucing"
      ]
    },
    {
      "cell_type": "code",
      "execution_count": 3,
      "metadata": {
        "id": "N6VnCEBsIC3y"
      },
      "outputs": [],
      "source": [
        "#dengan OOP\n",
        "\n",
        "class Binatang:\n",
        "  def __init__(self,nama,umur): \n",
        "    self.nama=nama\n",
        "    self.umur=umur\n",
        "  def bersuara(self,bunyi): \n",
        "    print(self.nama, \"bersuara\", bunyi)\n",
        "\n",
        "kucing = Binatang(\"tom\",2) \n",
        "ikan=Binatang(\"deni\",3) "
      ]
    },
    {
      "cell_type": "code",
      "execution_count": 4,
      "metadata": {
        "colab": {
          "base_uri": "https://localhost:8080/"
        },
        "id": "hL-frsLqKSey",
        "outputId": "4d638981-d9cd-4198-846e-06c9f3be8cb2"
      },
      "outputs": [
        {
          "data": {
            "text/plain": [
              "<__main__.Binatang at 0x7f9ec8643990>"
            ]
          },
          "execution_count": 4,
          "metadata": {},
          "output_type": "execute_result"
        }
      ],
      "source": [
        "kucing"
      ]
    },
    {
      "cell_type": "code",
      "execution_count": 6,
      "metadata": {
        "colab": {
          "base_uri": "https://localhost:8080/"
        },
        "id": "LuISaZRCM09i",
        "outputId": "5ab9d3ad-1246-4248-9fbd-bae971ce97b5"
      },
      "outputs": [
        {
          "name": "stdout",
          "output_type": "stream",
          "text": [
            "tom animalia\n",
            "deni animalia\n",
            "animalia\n"
          ]
        }
      ],
      "source": [
        "#dengan oop\n",
        "\n",
        "class Binatang:\n",
        "  nama_latin=\"animalia\" \n",
        "\n",
        "  def __init__(self,nama,umur): \n",
        "    self.nama=nama \n",
        "    self.umur=umur\n",
        "\n",
        "kucing = Binatang(\"tom\",2) \n",
        "ikan=Binatang(\"deni\",3)\n",
        "\n",
        "print(kucing.nama, kucing.nama_latin)\n",
        "print(ikan.nama, ikan.nama_latin)\n",
        "print(Binatang.nama_latin)"
      ]
    },
    {
      "cell_type": "code",
      "execution_count": 7,
      "metadata": {
        "colab": {
          "base_uri": "https://localhost:8080/"
        },
        "id": "fAnjjPHITciF",
        "outputId": "fb9d01e6-ddd6-4691-8b88-0dbe94d38050"
      },
      "outputs": [
        {
          "name": "stdout",
          "output_type": "stream",
          "text": [
            "animalia sudah bangun\n",
            "animalia sudah bangun\n",
            "animalia sudah bangun\n",
            "animalia sedang tidur\n",
            "animalia sedang tidur\n",
            "animalia sedang tidur\n"
          ]
        }
      ],
      "source": [
        "#methods\n",
        "\n",
        "class Binatang:\n",
        "  nama_latin=\"animalia\"\n",
        "\n",
        "  def __init__(self,nama,umur):\n",
        "    self.nama=nama\n",
        "    self.umur=umur\n",
        "  \n",
        "  @classmethod\n",
        "  def tidur(cls):\n",
        "    print(f\"{cls.nama_latin} sedang tidur\")\n",
        "\n",
        "  @staticmethod\n",
        "  def bangun():\n",
        "    print(f\"{Binatang.nama_latin} sudah bangun\")\n",
        "  \n",
        "kucing = Binatang(\"tom\",2) \n",
        "ikan = Binatang(\"deni\",3)\n",
        "\n",
        "kucing.bangun()\n",
        "ikan.bangun()\n",
        "Binatang.bangun()\n",
        "\n",
        "kucing.tidur()\n",
        "ikan.tidur()\n",
        "Binatang.tidur()"
      ]
    },
    {
      "cell_type": "code",
      "execution_count": 8,
      "metadata": {
        "colab": {
          "base_uri": "https://localhost:8080/"
        },
        "id": "dkys_NVMZIPc",
        "outputId": "1801ec0b-b920-476a-c2c5-053e9515311f"
      },
      "outputs": [
        {
          "name": "stdout",
          "output_type": "stream",
          "text": [
            "tom sedang makan\n",
            "deni sedang makan\n"
          ]
        }
      ],
      "source": [
        "#inheritance\n",
        "\n",
        "class Binatang:\n",
        "  nama_latin=\"animalia\"\n",
        "\n",
        "  def __init__(self,nama,umur):\n",
        "    self.nama=nama\n",
        "    self.umur=umur\n",
        "  \n",
        "  @classmethod\n",
        "  def tidur(cls):\n",
        "    print(f\"{cls.nama_latin} sedang tidur\")\n",
        "\n",
        "  @staticmethod\n",
        "  def bangun():\n",
        "    print(f\"{Binatang.nama_latin} sudah bangun\")\n",
        "\n",
        "  def makan(self):\n",
        "    print(f\"{self.nama} sedang makan\")\n",
        "\n",
        "class kucing(Binatang):\n",
        "  pass\n",
        "\n",
        "class ikan(Binatang):\n",
        "  pass\n",
        "\n",
        "kucing = kucing (\"tom\",2) \n",
        "ikan = ikan (\"deni\",3)\n",
        "\n",
        "kucing.makan()\n",
        "ikan.makan()"
      ]
    },
    {
      "cell_type": "code",
      "execution_count": 10,
      "metadata": {
        "colab": {
          "base_uri": "https://localhost:8080/"
        },
        "id": "762etkbqbH8p",
        "outputId": "46abc048-c18d-4443-cf2b-4069cd2a411c"
      },
      "outputs": [
        {
          "name": "stdout",
          "output_type": "stream",
          "text": [
            "tom sedang makan ikan\n",
            "deni sedang makan plankton\n",
            "felis catus sedang tidur\n",
            "fishsalam sedang tidur\n",
            "animalia sudah bangun\n"
          ]
        }
      ],
      "source": [
        "#override\n",
        "\n",
        "class Binatang:\n",
        "  nama_latin=\"animalia\"\n",
        "\n",
        "  def __init__(self,nama,umur):\n",
        "    self.nama=nama\n",
        "    self.umur=umur\n",
        "  \n",
        "  @classmethod\n",
        "  def tidur(cls):\n",
        "    print(f\"{cls.nama_latin} sedang tidur\")\n",
        "\n",
        "  @staticmethod\n",
        "  def bangun():\n",
        "    print(f\"{Binatang.nama_latin} sudah bangun\")\n",
        "\n",
        "  def makan(self):\n",
        "    print(f\"{self.nama} sedang makan\")\n",
        "\n",
        "class kucing(Binatang):\n",
        "  nama_latin=\"felis catus\"\n",
        "  def makan(self):\n",
        "    print(f\"{self.nama} sedang makan ikan\")\n",
        "\n",
        "class ikan(Binatang):\n",
        "  nama_latin=\"fishsalam\"\n",
        "  def makan(self):\n",
        "    print(f\"{self.nama} sedang makan plankton\")\n",
        "\n",
        "kucing = kucing (\"tom\",2) \n",
        "ikan = ikan (\"deni\",3)\n",
        "\n",
        "kucing.makan()\n",
        "ikan.makan()\n",
        "\n",
        "kucing.tidur()\n",
        "ikan.tidur()\n",
        "\n",
        "kucing.bangun()  "
      ]
    },
    {
      "cell_type": "code",
      "execution_count": 1,
      "metadata": {
        "colab": {
          "base_uri": "https://localhost:8080/"
        },
        "id": "6TN6Tgale-81",
        "outputId": "7c503c89-1ac7-4a57-b535-dc56f7139dee"
      },
      "outputs": [
        {
          "name": "stdout",
          "output_type": "stream",
          "text": [
            "tidak ada minuman\n",
            "tom sedang minum susu\n"
          ]
        }
      ],
      "source": [
        "#overload \n",
        "\n",
        "class Binatang:\n",
        "  nama_latin=\"animalia\"\n",
        "\n",
        "  def __init__(self,nama,umur):\n",
        "    self.nama=nama\n",
        "    self.umur=umur\n",
        "  \n",
        "  @classmethod\n",
        "  def tidur(cls):\n",
        "    print(f\"{cls.nama_latin} sedang tidur\")\n",
        "\n",
        "  @staticmethod\n",
        "  def bangun():\n",
        "    print(f\"{Binatang.nama_latin} sudah bangun\")\n",
        "\n",
        "  def makan(self):\n",
        "    print(f\"{self.nama} sedang makan\")\n",
        "\n",
        "class kucing(Binatang):\n",
        "  nama_latin=\"felis catus\"\n",
        "  def makan(self):\n",
        "    print(f\"{self.nama} sedang makan ikan\")\n",
        "\n",
        "  def minum(self, minuman=None):    \n",
        "    if minuman==None:\n",
        "      print(\"tidak ada minuman\")\n",
        "    else:\n",
        "      print(f\"{self.nama} sedang minum {minuman}\")\n",
        "\n",
        "class ikan(Binatang):\n",
        "  nama_latin=\"fishsalam\"\n",
        "  def makan(self):\n",
        "    print(f\"{self.nama} sedang makan plankton\")\n",
        "\n",
        "kucing = kucing (\"tom\",2) \n",
        "ikan = ikan (\"deni\",3)\n",
        "\n",
        "kucing.minum()            \n",
        "kucing.minum(\"susu\")"
      ]
    },
    {
      "cell_type": "code",
      "execution_count": 4,
      "metadata": {
        "colab": {
          "base_uri": "https://localhost:8080/"
        },
        "id": "U2gCuAAXife7",
        "outputId": "5788a31a-1bec-4cfc-dd00-7a3807c5f553"
      },
      "outputs": [
        {
          "name": "stdout",
          "output_type": "stream",
          "text": [
            "animalia sudah bangun\n",
            "tom sedang makan ikan\n",
            "felis catus sedang tidur\n"
          ]
        }
      ],
      "source": [
        "class Binatang:\n",
        "  nama_latin=\"animalia\"\n",
        "\n",
        "  def __init__(self,nama,umur):\n",
        "    self.nama=nama\n",
        "    self.umur=umur\n",
        "  \n",
        "  @classmethod\n",
        "  def tidur(cls):\n",
        "    print(f\"{cls.nama_latin} sedang tidur\")\n",
        "\n",
        "  @staticmethod\n",
        "  def bangun():\n",
        "    print(f\"{Binatang.nama_latin} sudah bangun\")\n",
        "\n",
        "  def makan(self):\n",
        "    print(f\"{self.nama} sedang makan\")\n",
        "\n",
        "class kucing(Binatang):\n",
        "  nama_latin=\"felis catus\"\n",
        "  def makan(self):\n",
        "    print(f\"{self.nama} sedang makan ikan\")\n",
        "\n",
        "  def minum(self, minuman=None):        \n",
        "    if minuman==None:\n",
        "      print(\"tidak ada minuman\")\n",
        "    else:\n",
        "      print(f\"{self.nama} sedang minum {minuman}\")\n",
        "\n",
        "class ikan(Binatang):\n",
        "  nama_latin=\"fishsalam\"\n",
        "  def makan(self):\n",
        "    print(f\"{self.nama} sedang makan plankton\")\n",
        "\n",
        "kucing = kucing (\"tom\",2)\n",
        "ikan = ikan (\"deni\",3)\n",
        "\n",
        "kucing.bangun()\n",
        "kucing.makan()\n",
        "kucing.tidur()"
      ]
    }
  ],
  "metadata": {
    "colab": {
      "collapsed_sections": [],
      "name": "python3.ipynb",
      "provenance": []
    },
    "kernelspec": {
      "display_name": "Python 3",
      "name": "python3"
    },
    "language_info": {
      "name": "python"
    }
  },
  "nbformat": 4,
  "nbformat_minor": 0
}
