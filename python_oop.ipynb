{
  "nbformat": 4,
  "nbformat_minor": 0,
  "metadata": {
    "colab": {
      "name": "python3.ipynb",
      "provenance": [],
      "collapsed_sections": []
    },
    "kernelspec": {
      "name": "python3",
      "display_name": "Python 3"
    },
    "language_info": {
      "name": "python"
    }
  },
  "cells": [
    {
      "cell_type": "code",
      "execution_count": 1,
      "metadata": {
        "id": "bIO1y7KLEeC_"
      },
      "outputs": [],
      "source": [
        "#tanpa OOP\n",
        "\n",
        "kucing=[\"tom\",2]"
      ]
    },
    {
      "cell_type": "code",
      "source": [
        "kucing"
      ],
      "metadata": {
        "colab": {
          "base_uri": "https://localhost:8080/"
        },
        "id": "bgl2gZwJIA-b",
        "outputId": "2de3ca16-71be-484f-d380-03d139d41226"
      },
      "execution_count": 2,
      "outputs": [
        {
          "output_type": "execute_result",
          "data": {
            "text/plain": [
              "['tom', 2]"
            ]
          },
          "metadata": {},
          "execution_count": 2
        }
      ]
    },
    {
      "cell_type": "code",
      "source": [
        "#dengan OOP\n",
        "\n",
        "class Binatang:\n",
        "  def __init__(self,nama,umur): #atribut kelas nama dan umur\n",
        "    self.nama=nama\n",
        "    self.umur=umur\n",
        "  def bersuara(self,bunyi): #bersuara merupakan method dariclass binatang\n",
        "    print(self.nama, \"bersuara\", bunyi)\n",
        "\n",
        "kucing = Binatang(\"tom\",2) #object kucing,binatang\n",
        "ikan=Binatang(\"deni\",3) #si ikan punya instan attribut nama dan umur                     #Binatang(\"tom\",2) merupakan instiation"
      ],
      "metadata": {
        "id": "N6VnCEBsIC3y"
      },
      "execution_count": 3,
      "outputs": []
    },
    {
      "cell_type": "code",
      "source": [
        "kucing"
      ],
      "metadata": {
        "colab": {
          "base_uri": "https://localhost:8080/"
        },
        "id": "hL-frsLqKSey",
        "outputId": "4d638981-d9cd-4198-846e-06c9f3be8cb2"
      },
      "execution_count": 4,
      "outputs": [
        {
          "output_type": "execute_result",
          "data": {
            "text/plain": [
              "<__main__.Binatang at 0x7f9ec8643990>"
            ]
          },
          "metadata": {},
          "execution_count": 4
        }
      ]
    },
    {
      "cell_type": "code",
      "source": [
        "#dengan oop\n",
        "\n",
        "class Binatang:\n",
        "  nama_latin=\"animalia\" #nama_latin merupakan class attribut\n",
        "\n",
        "  def __init__(self,nama,umur): #semua yang ada di init dan memeiliki self merupakan instan atribut\n",
        "    self.nama=nama # nama dan umur merupakan instan atribut\n",
        "    self.umur=umur\n",
        "\n",
        "kucing = Binatang(\"tom\",2) #object kucing,binatang\n",
        "ikan=Binatang(\"deni\",3)\n",
        "\n",
        "print(kucing.nama, kucing.nama_latin)\n",
        "print(ikan.nama, ikan.nama_latin)\n",
        "print(Binatang.nama_latin)"
      ],
      "metadata": {
        "colab": {
          "base_uri": "https://localhost:8080/"
        },
        "id": "LuISaZRCM09i",
        "outputId": "5ab9d3ad-1246-4248-9fbd-bae971ce97b5"
      },
      "execution_count": 6,
      "outputs": [
        {
          "output_type": "stream",
          "name": "stdout",
          "text": [
            "tom animalia\n",
            "deni animalia\n",
            "animalia\n"
          ]
        }
      ]
    },
    {
      "cell_type": "code",
      "source": [
        "#methods\n",
        "\n",
        "class Binatang:\n",
        "  nama_latin=\"animalia\"\n",
        "\n",
        "  def __init__(self,nama,umur):\n",
        "    self.nama=nama\n",
        "    self.umur=umur\n",
        "  \n",
        "  @classmethod\n",
        "  def tidur(cls):\n",
        "    print(f\"{cls.nama_latin} sedang tidur\")\n",
        "\n",
        "  @staticmethod\n",
        "  def bangun():\n",
        "    print(f\"{Binatang.nama_latin} sudah bangun\")\n",
        "  \n",
        "kucing = Binatang(\"tom\",2) #object kucing,binatang\n",
        "ikan = Binatang(\"deni\",3)\n",
        "\n",
        "kucing.bangun()\n",
        "ikan.bangun()\n",
        "Binatang.bangun()\n",
        "\n",
        "kucing.tidur()\n",
        "ikan.tidur()\n",
        "Binatang.tidur()"
      ],
      "metadata": {
        "colab": {
          "base_uri": "https://localhost:8080/"
        },
        "id": "fAnjjPHITciF",
        "outputId": "fb9d01e6-ddd6-4691-8b88-0dbe94d38050"
      },
      "execution_count": 7,
      "outputs": [
        {
          "output_type": "stream",
          "name": "stdout",
          "text": [
            "animalia sudah bangun\n",
            "animalia sudah bangun\n",
            "animalia sudah bangun\n",
            "animalia sedang tidur\n",
            "animalia sedang tidur\n",
            "animalia sedang tidur\n"
          ]
        }
      ]
    },
    {
      "cell_type": "code",
      "source": [
        "#inheritance\n",
        "\n",
        "class Binatang:\n",
        "  nama_latin=\"animalia\"\n",
        "\n",
        "  def __init__(self,nama,umur):\n",
        "    self.nama=nama\n",
        "    self.umur=umur\n",
        "  \n",
        "  @classmethod\n",
        "  def tidur(cls):\n",
        "    print(f\"{cls.nama_latin} sedang tidur\")\n",
        "\n",
        "  @staticmethod\n",
        "  def bangun():\n",
        "    print(f\"{Binatang.nama_latin} sudah bangun\")\n",
        "\n",
        "  def makan(self):\n",
        "    print(f\"{self.nama} sedang makan\")\n",
        "\n",
        "class kucing(Binatang):\n",
        "  pass\n",
        "\n",
        "class ikan(Binatang):\n",
        "  pass\n",
        "\n",
        "kucing = kucing (\"tom\",2) #object kucing,binatang\n",
        "ikan = ikan (\"deni\",3)\n",
        "\n",
        "kucing.makan()\n",
        "ikan.makan()"
      ],
      "metadata": {
        "colab": {
          "base_uri": "https://localhost:8080/"
        },
        "id": "dkys_NVMZIPc",
        "outputId": "1801ec0b-b920-476a-c2c5-053e9515311f"
      },
      "execution_count": 8,
      "outputs": [
        {
          "output_type": "stream",
          "name": "stdout",
          "text": [
            "tom sedang makan\n",
            "deni sedang makan\n"
          ]
        }
      ]
    },
    {
      "cell_type": "code",
      "source": [
        "#override\n",
        "\n",
        "class Binatang:\n",
        "  nama_latin=\"animalia\"\n",
        "\n",
        "  def __init__(self,nama,umur):\n",
        "    self.nama=nama\n",
        "    self.umur=umur\n",
        "  \n",
        "  @classmethod\n",
        "  def tidur(cls):\n",
        "    print(f\"{cls.nama_latin} sedang tidur\")\n",
        "\n",
        "  @staticmethod\n",
        "  def bangun():\n",
        "    print(f\"{Binatang.nama_latin} sudah bangun\")\n",
        "\n",
        "  def makan(self):\n",
        "    print(f\"{self.nama} sedang makan\")\n",
        "\n",
        "class kucing(Binatang):\n",
        "  nama_latin=\"felis catus\"\n",
        "  def makan(self):\n",
        "    print(f\"{self.nama} sedang makan ikan\")\n",
        "\n",
        "class ikan(Binatang):\n",
        "  nama_latin=\"fishsalam\"\n",
        "  def makan(self):\n",
        "    print(f\"{self.nama} sedang makan plankton\")\n",
        "\n",
        "kucing = kucing (\"tom\",2) #object kucing,binatang\n",
        "ikan = ikan (\"deni\",3)\n",
        "\n",
        "kucing.makan()\n",
        "ikan.makan()\n",
        "\n",
        "kucing.tidur()\n",
        "ikan.tidur()\n",
        "\n",
        "kucing.bangun()     #output animalia karena staticmethod"
      ],
      "metadata": {
        "colab": {
          "base_uri": "https://localhost:8080/"
        },
        "id": "762etkbqbH8p",
        "outputId": "46abc048-c18d-4443-cf2b-4069cd2a411c"
      },
      "execution_count": 10,
      "outputs": [
        {
          "output_type": "stream",
          "name": "stdout",
          "text": [
            "tom sedang makan ikan\n",
            "deni sedang makan plankton\n",
            "felis catus sedang tidur\n",
            "fishsalam sedang tidur\n",
            "animalia sudah bangun\n"
          ]
        }
      ]
    },
    {
      "cell_type": "code",
      "source": [
        "#overload             #punya 2 method bisa dengan argumen bisa tidak\n",
        "\n",
        "class Binatang:\n",
        "  nama_latin=\"animalia\"\n",
        "\n",
        "  def __init__(self,nama,umur):\n",
        "    self.nama=nama\n",
        "    self.umur=umur\n",
        "  \n",
        "  @classmethod\n",
        "  def tidur(cls):\n",
        "    print(f\"{cls.nama_latin} sedang tidur\")\n",
        "\n",
        "  @staticmethod\n",
        "  def bangun():\n",
        "    print(f\"{Binatang.nama_latin} sudah bangun\")\n",
        "\n",
        "  def makan(self):\n",
        "    print(f\"{self.nama} sedang makan\")\n",
        "\n",
        "class kucing(Binatang):\n",
        "  nama_latin=\"felis catus\"\n",
        "  def makan(self):\n",
        "    print(f\"{self.nama} sedang makan ikan\")\n",
        "\n",
        "  def minum(self, minuman=None):          #overload ditambahkan disini          #minum merupakan method\n",
        "    if minuman==None:\n",
        "      print(\"tidak ada minuman\")\n",
        "    else:\n",
        "      print(f\"{self.nama} sedang minum {minuman}\")\n",
        "\n",
        "class ikan(Binatang):\n",
        "  nama_latin=\"fishsalam\"\n",
        "  def makan(self):\n",
        "    print(f\"{self.nama} sedang makan plankton\")\n",
        "\n",
        "kucing = kucing (\"tom\",2) #object kucing,binatang\n",
        "ikan = ikan (\"deni\",3)\n",
        "\n",
        "kucing.minum()             #minum merupakan method\n",
        "kucing.minum(\"susu\")"
      ],
      "metadata": {
        "colab": {
          "base_uri": "https://localhost:8080/"
        },
        "id": "6TN6Tgale-81",
        "outputId": "7c503c89-1ac7-4a57-b535-dc56f7139dee"
      },
      "execution_count": 1,
      "outputs": [
        {
          "output_type": "stream",
          "name": "stdout",
          "text": [
            "tidak ada minuman\n",
            "tom sedang minum susu\n"
          ]
        }
      ]
    },
    {
      "cell_type": "code",
      "source": [
        "#beda classmethod dan statismethod\n",
        "\n",
        "class Binatang:\n",
        "  nama_latin=\"animalia\"\n",
        "\n",
        "  def __init__(self,nama,umur):\n",
        "    self.nama=nama\n",
        "    self.umur=umur\n",
        "  \n",
        "  @classmethod\n",
        "  def tidur(cls):\n",
        "    print(f\"{cls.nama_latin} sedang tidur\")\n",
        "\n",
        "  @staticmethod\n",
        "  def bangun():\n",
        "    print(f\"{Binatang.nama_latin} sudah bangun\")\n",
        "\n",
        "  def makan(self):\n",
        "    print(f\"{self.nama} sedang makan\")\n",
        "\n",
        "class kucing(Binatang):\n",
        "  nama_latin=\"felis catus\"\n",
        "  def makan(self):\n",
        "    print(f\"{self.nama} sedang makan ikan\")\n",
        "\n",
        "  def minum(self, minuman=None):          #overload ditambahkan disini          #minum merupakan method\n",
        "    if minuman==None:\n",
        "      print(\"tidak ada minuman\")\n",
        "    else:\n",
        "      print(f\"{self.nama} sedang minum {minuman}\")\n",
        "\n",
        "class ikan(Binatang):\n",
        "  nama_latin=\"fishsalam\"\n",
        "  def makan(self):\n",
        "    print(f\"{self.nama} sedang makan plankton\")\n",
        "\n",
        "kucing = kucing (\"tom\",2) #object kucing,binatang\n",
        "ikan = ikan (\"deni\",3)\n",
        "\n",
        "kucing.bangun()\n",
        "kucing.makan()\n",
        "kucing.tidur()"
      ],
      "metadata": {
        "colab": {
          "base_uri": "https://localhost:8080/"
        },
        "id": "U2gCuAAXife7",
        "outputId": "5788a31a-1bec-4cfc-dd00-7a3807c5f553"
      },
      "execution_count": 4,
      "outputs": [
        {
          "output_type": "stream",
          "name": "stdout",
          "text": [
            "animalia sudah bangun\n",
            "tom sedang makan ikan\n",
            "felis catus sedang tidur\n"
          ]
        }
      ]
    }
  ]
}