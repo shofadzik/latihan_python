{
  "nbformat": 4,
  "nbformat_minor": 0,
  "metadata": {
    "colab": {
      "name": "Untitled3.ipynb",
      "provenance": [],
      "collapsed_sections": []
    },
    "kernelspec": {
      "name": "python3",
      "display_name": "Python 3"
    },
    "language_info": {
      "name": "python"
    }
  },
  "cells": [
    {
      "cell_type": "code",
      "execution_count": 2,
      "metadata": {
        "id": "D8PlwFyFmJ9D"
      },
      "outputs": [],
      "source": [
        "list_num=[2,5,8,1,5,7]\n",
        "result=1\n",
        "\n",
        "for num in list_num:\n",
        "  if num %2==0:\n",
        "    result=int(result+result/num)\n",
        "  else:\n",
        "    result=result*num"
      ]
    },
    {
      "cell_type": "code",
      "source": [
        "result"
      ],
      "metadata": {
        "colab": {
          "base_uri": "https://localhost:8080/"
        },
        "id": "GDveUg1om8VO",
        "outputId": "449a409a-0c9f-43d9-b957-c17db09cdffc"
      },
      "execution_count": 3,
      "outputs": [
        {
          "output_type": "execute_result",
          "data": {
            "text/plain": [
              "175"
            ]
          },
          "metadata": {},
          "execution_count": 3
        }
      ]
    },
    {
      "cell_type": "code",
      "source": [
        "list_num=[2,5,8,1,5,7]\n",
        "result=1\n",
        "\n",
        "for num in list_num:\n",
        "  if num !=5:\n",
        "    result=int(result+result/num)\n",
        "  else:\n",
        "    result=result*num"
      ],
      "metadata": {
        "id": "AtoPMr8snTev"
      },
      "execution_count": 4,
      "outputs": []
    },
    {
      "cell_type": "code",
      "source": [
        "result"
      ],
      "metadata": {
        "colab": {
          "base_uri": "https://localhost:8080/"
        },
        "id": "SRtg3fhAnfYS",
        "outputId": "9817de29-9d48-4c75-be00-5874fb9973ae"
      },
      "execution_count": 5,
      "outputs": [
        {
          "output_type": "execute_result",
          "data": {
            "text/plain": [
              "57"
            ]
          },
          "metadata": {},
          "execution_count": 5
        }
      ]
    },
    {
      "cell_type": "code",
      "source": [
        "stringA = \"abcd\"\n",
        "stringB = \"efgh\"\n",
        "\n",
        "result=\"\"\n",
        "\n",
        "for a in stringA:\n",
        "  if a ==\"b\":\n",
        "    result=\"b\"\n",
        "    for b in stringB:\n",
        "      result=result+b"
      ],
      "metadata": {
        "id": "ccIbEUAdnhwR"
      },
      "execution_count": 6,
      "outputs": []
    },
    {
      "cell_type": "code",
      "source": [
        "result"
      ],
      "metadata": {
        "colab": {
          "base_uri": "https://localhost:8080/",
          "height": 35
        },
        "id": "5oEsIwe9oHxW",
        "outputId": "6b738728-6689-469b-802e-dac034c770e4"
      },
      "execution_count": 7,
      "outputs": [
        {
          "output_type": "execute_result",
          "data": {
            "text/plain": [
              "'befgh'"
            ],
            "application/vnd.google.colaboratory.intrinsic+json": {
              "type": "string"
            }
          },
          "metadata": {},
          "execution_count": 7
        }
      ]
    },
    {
      "cell_type": "code",
      "source": [
        "stringA = \"abcd\"\n",
        "stringB = \"efgh\"\n",
        "\n",
        "result=\"\"\n",
        "\n",
        "for a in stringA:\n",
        "  if a ==\"e\":\n",
        "    result=\"b\"\n",
        "    for b in stringB:\n",
        "      result=result+b"
      ],
      "metadata": {
        "id": "KAI9IpqMoNox"
      },
      "execution_count": 8,
      "outputs": []
    },
    {
      "cell_type": "code",
      "source": [
        "result"
      ],
      "metadata": {
        "colab": {
          "base_uri": "https://localhost:8080/",
          "height": 35
        },
        "id": "U12Ymw9poWK8",
        "outputId": "dc035ff0-0e87-437b-e7c6-da28992a41d2"
      },
      "execution_count": 9,
      "outputs": [
        {
          "output_type": "execute_result",
          "data": {
            "text/plain": [
              "''"
            ],
            "application/vnd.google.colaboratory.intrinsic+json": {
              "type": "string"
            }
          },
          "metadata": {},
          "execution_count": 9
        }
      ]
    },
    {
      "cell_type": "code",
      "source": [
        "def add(x,y,z):\n",
        "  result=0\n",
        "  if type(x)==int:\n",
        "    result=int(x)+int(y)+int(z)\n",
        "  elif type(x)==str or type(y)==str or type(z)==str:\n",
        "    print(\"x should be int\")\n",
        "    result=int(x)+int(y)-int(z)\n",
        "  else:\n",
        "    pass\n",
        "  return result"
      ],
      "metadata": {
        "id": "9KWx3d01oeN0"
      },
      "execution_count": 11,
      "outputs": []
    },
    {
      "cell_type": "code",
      "source": [
        "add(\"5\",4,3)"
      ],
      "metadata": {
        "colab": {
          "base_uri": "https://localhost:8080/"
        },
        "id": "ccRYVKGQpnbQ",
        "outputId": "ac73f1e0-66b3-44e6-9983-132362f9500c"
      },
      "execution_count": 12,
      "outputs": [
        {
          "output_type": "stream",
          "name": "stdout",
          "text": [
            "x should be int\n"
          ]
        },
        {
          "output_type": "execute_result",
          "data": {
            "text/plain": [
              "6"
            ]
          },
          "metadata": {},
          "execution_count": 12
        }
      ]
    },
    {
      "cell_type": "code",
      "source": [
        "add(\"-7\",4,\"-3\")"
      ],
      "metadata": {
        "colab": {
          "base_uri": "https://localhost:8080/"
        },
        "id": "cnxUgm_npvf-",
        "outputId": "8ebb6f2b-3a4e-4aaa-f125-11a5ed332a53"
      },
      "execution_count": 13,
      "outputs": [
        {
          "output_type": "stream",
          "name": "stdout",
          "text": [
            "x should be int\n"
          ]
        },
        {
          "output_type": "execute_result",
          "data": {
            "text/plain": [
              "0"
            ]
          },
          "metadata": {},
          "execution_count": 13
        }
      ]
    },
    {
      "cell_type": "code",
      "source": [
        "add(\"-10\",1,-1)"
      ],
      "metadata": {
        "colab": {
          "base_uri": "https://localhost:8080/"
        },
        "id": "8lfhlwIyp7ak",
        "outputId": "1eb37b34-0274-4925-e075-d3c8080d2224"
      },
      "execution_count": 14,
      "outputs": [
        {
          "output_type": "stream",
          "name": "stdout",
          "text": [
            "x should be int\n"
          ]
        },
        {
          "output_type": "execute_result",
          "data": {
            "text/plain": [
              "-8"
            ]
          },
          "metadata": {},
          "execution_count": 14
        }
      ]
    },
    {
      "cell_type": "code",
      "source": [
        "def add(arr_1,arr_2):\n",
        "  res=0\n",
        "  if len(arr_1) != len(arr_2):\n",
        "    print(\"lenght\")\n",
        "    pass\n",
        "  else:\n",
        "    for i in range(len(arr_1)):\n",
        "      res=res+arr_1[i]+arr_2[i]\n",
        "  return res"
      ],
      "metadata": {
        "id": "FhWb7hKtqDqi"
      },
      "execution_count": 37,
      "outputs": []
    },
    {
      "cell_type": "code",
      "source": [
        "add([1,2,3],[1,2])"
      ],
      "metadata": {
        "colab": {
          "base_uri": "https://localhost:8080/"
        },
        "id": "Sz7jAHhKqniI",
        "outputId": "b42c7cd2-c897-449a-e6b6-aab851d46edc"
      },
      "execution_count": 38,
      "outputs": [
        {
          "output_type": "stream",
          "name": "stdout",
          "text": [
            "lenght\n"
          ]
        },
        {
          "output_type": "execute_result",
          "data": {
            "text/plain": [
              "0"
            ]
          },
          "metadata": {},
          "execution_count": 38
        }
      ]
    },
    {
      "cell_type": "code",
      "source": [
        "def add(arr_1,arr_2):\n",
        "  res=0\n",
        "  if len(arr_1) != len(arr_2):\n",
        "    print(\"lenght\")\n",
        "    pass\n",
        "  else:\n",
        "    for i in range(len(arr_1)):\n",
        "      res=res+arr_1[i]+arr_2[i]\n",
        "  return res"
      ],
      "metadata": {
        "id": "CFK3btAYrF0P"
      },
      "execution_count": 35,
      "outputs": []
    },
    {
      "cell_type": "code",
      "source": [
        "add([1,2,3],[4,5,6])"
      ],
      "metadata": {
        "colab": {
          "base_uri": "https://localhost:8080/"
        },
        "id": "4oB1yxelq5NF",
        "outputId": "39814370-b0a5-48c9-d59e-e269f2dfb804"
      },
      "execution_count": 36,
      "outputs": [
        {
          "output_type": "execute_result",
          "data": {
            "text/plain": [
              "21"
            ]
          },
          "metadata": {},
          "execution_count": 36
        }
      ]
    },
    {
      "cell_type": "code",
      "source": [
        "def run(x):\n",
        "  if x <1000:\n",
        "    x=run(x*2)\n",
        "  return x\n",
        "print(run(10))"
      ],
      "metadata": {
        "colab": {
          "base_uri": "https://localhost:8080/"
        },
        "id": "9-ZXDhYOreo9",
        "outputId": "7e4710e3-be80-4326-b8ff-08ec529439fd"
      },
      "execution_count": 24,
      "outputs": [
        {
          "output_type": "stream",
          "name": "stdout",
          "text": [
            "1280\n"
          ]
        }
      ]
    }
  ]
}